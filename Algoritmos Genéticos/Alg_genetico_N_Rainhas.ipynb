{
  "nbformat": 4,
  "nbformat_minor": 0,
  "metadata": {
    "colab": {
      "provenance": [],
      "authorship_tag": "ABX9TyOwUWf1DK3FTVuEUlcjNR3I",
      "include_colab_link": true
    },
    "kernelspec": {
      "name": "python3",
      "display_name": "Python 3"
    },
    "language_info": {
      "name": "python"
    }
  },
  "cells": [
    {
      "cell_type": "markdown",
      "metadata": {
        "id": "view-in-github",
        "colab_type": "text"
      },
      "source": [
        "<a href=\"https://colab.research.google.com/github/Lucasx10/Projetos-Inteligencia-Artificial/blob/main/Algoritmos%20Gen%C3%A9ticos/Alg_genetico_N_Rainhas.ipynb\" target=\"_parent\"><img src=\"https://colab.research.google.com/assets/colab-badge.svg\" alt=\"Open In Colab\"/></a>"
      ]
    },
    {
      "cell_type": "markdown",
      "source": [
        "## **Passo 1: Configuração do ambiente**\n",
        "\n",
        "Primeiro, vamos configurar o ambiente no Google Colab. Importar as bibliotecas necessárias:"
      ],
      "metadata": {
        "id": "zaBg6ADqlI3v"
      }
    },
    {
      "cell_type": "code",
      "source": [
        "import random\n",
        "import numpy as np"
      ],
      "metadata": {
        "id": "08k5tOCulbNo"
      },
      "execution_count": null,
      "outputs": []
    },
    {
      "cell_type": "markdown",
      "source": [
        "## **Passo 2: Representação do Cromossomo (Objetivo)**\n",
        "Vamos representar uma solução candidata (ou cromossomo) como uma lista de tamanho N, onde cada elemento representa a posição da rainha em uma coluna específica. Por exemplo, o cromossomo [1, 3, 0, 2] significa que a primeira rainha está na coluna 1, a segunda rainha está na coluna 3, a terceira rainha está na coluna 0 e a quarta rainha está na coluna 2."
      ],
      "metadata": {
        "id": "2XHJREAplhPs"
      }
    },
    {
      "cell_type": "markdown",
      "source": [
        "## **Passo 3: Função de Avaliação (fitness function)**\n",
        "A função de avaliação atribui uma pontuação ao cromossomo com base em quantas rainhas estão se atacando. Quanto menor o número de ataques, melhor é o cromossomo. Vamos definir a função de avaliação:"
      ],
      "metadata": {
        "id": "GiE219QmDV4e"
      }
    },
    {
      "cell_type": "code",
      "source": [
        "def funcao_avaliacao(combinacao):\n",
        "    num_attacks = 0\n",
        "    for i in range(len(combinacao)):\n",
        "        for j in range(i+1, len(combinacao)):\n",
        "            if combinacao[i] == combinacao[j] or abs(combinacao[i] - combinacao[j]) == j - i:\n",
        "                num_attacks += 1\n",
        "    return num_attacks"
      ],
      "metadata": {
        "id": "KupoGvGzC46Z"
      },
      "execution_count": null,
      "outputs": []
    },
    {
      "cell_type": "markdown",
      "source": [
        "\n",
        "\n",
        "*   Testando a função avaliativa:\n",
        "\n"
      ],
      "metadata": {
        "id": "_YoXfOWYELO0"
      }
    },
    {
      "cell_type": "code",
      "source": [
        "funcao_avaliacao([1,3,0,2])"
      ],
      "metadata": {
        "colab": {
          "base_uri": "https://localhost:8080/"
        },
        "id": "YuSaD-XqEENW",
        "outputId": "e5e6dab3-1668-47d0-d05c-c544e876245f"
      },
      "execution_count": null,
      "outputs": [
        {
          "output_type": "execute_result",
          "data": {
            "text/plain": [
              "0"
            ]
          },
          "metadata": {},
          "execution_count": 6
        }
      ]
    },
    {
      "cell_type": "markdown",
      "source": [
        "##**Passo 4: Operadores Genéticos**\n",
        "Agora, vamos implementar os operadores genéticos - seleção, cruzamento (crossover) e mutação.\n",
        "\n",
        "Para a seleção, vamos utilizar o método da roleta viciada, onde a probabilidade de seleção de um cromossomo é proporcional à sua pontuação de avaliação. Implementaremos a função de seleção da seguinte forma:"
      ],
      "metadata": {
        "id": "fm90sWQaGKMN"
      }
    },
    {
      "cell_type": "code",
      "source": [
        "def selecao(populacao, fitness):\n",
        "    probabilidade = [1 / (f+1) for f in fitness]\n",
        "    probabilidade /= np.sum(probabilidade)\n",
        "    indices_selecionados = np.random.choice(len(populacao), size=len(populacao), p=probabilidade)\n",
        "    return [populacao[i] for i in indices_selecionados]\n"
      ],
      "metadata": {
        "id": "d3sDiGNiGPL8"
      },
      "execution_count": null,
      "outputs": []
    },
    {
      "cell_type": "markdown",
      "source": [
        "### Crossover\n",
        "Para o cruzamento, vamos usar o crossover de um ponto, onde selecionamos aleatoriamente um ponto de corte e trocamos as partes correspondentes dos pais para criar dois descendentes:\n"
      ],
      "metadata": {
        "id": "usYqE5hsHMJT"
      }
    },
    {
      "cell_type": "code",
      "source": [
        "def crossover(individuo1, individuo2):\n",
        "    gene = random.randint(1, len(individuo1)-1) #escolhe aleatoriamente o ponto de corte entre 1 e o comprimento do cromossomo menos 1.\n",
        "    child1 = individuo1[:gene] + individuo2[gene:]\n",
        "    child2 = individuo2[:gene] + individuo1[gene:]\n",
        "    return child1, child2"
      ],
      "metadata": {
        "id": "zPsI1wItHPhp"
      },
      "execution_count": null,
      "outputs": []
    },
    {
      "cell_type": "code",
      "source": [
        "individuo1 = [1, 3, 0, 2]\n",
        "individuo2 = [2, 0, 3, 1]\n",
        "\n",
        "child1, child2 = crossover(individuo1, individuo2)\n",
        "print(child1) \n",
        "print(child2)  \n"
      ],
      "metadata": {
        "colab": {
          "base_uri": "https://localhost:8080/"
        },
        "id": "HwBncPRjLsOX",
        "outputId": "277f3003-98bd-47ee-feb3-7c7f2f857840"
      },
      "execution_count": null,
      "outputs": [
        {
          "output_type": "stream",
          "name": "stdout",
          "text": [
            "[1, 3, 3, 1]\n",
            "[2, 0, 0, 2]\n"
          ]
        }
      ]
    },
    {
      "cell_type": "markdown",
      "source": [
        "### Mutação\n",
        "Para a mutação, vamos escolher aleatoriamente uma rainha e movê-la para uma posição aleatória na mesma coluna:"
      ],
      "metadata": {
        "id": "It3e9rgTMIy8"
      }
    },
    {
      "cell_type": "code",
      "source": [
        "def mutacao(combinacao):\n",
        "    mutacao_combinacao = combinacao.copy()\n",
        "    rainha = random.randint(0, len(combinacao)-1)\n",
        "    nova_posicao = random.randint(0, len(combinacao)-1)\n",
        "    mutacao_combinacao[rainha] = nova_posicao\n",
        "    return mutacao_combinacao"
      ],
      "metadata": {
        "id": "J1u_chgCMNqY"
      },
      "execution_count": null,
      "outputs": []
    },
    {
      "cell_type": "markdown",
      "source": [
        "## **Passo 5: Algoritmo Genético**\n",
        "Agora, vamos implementar o algoritmo genético completo.\n",
        "A função recebe três parâmetros: \n",
        "* `N`: representa o tamanho do tabuleiro (ou seja, o número de rainhas)\n",
        "* `tamanho_populacao`: é o número de cromossomos na população \n",
        "* `geracoes`: é o número máximo de gerações.\n",
        "\n",
        "Uma breve explicação de algumas variáveis utilizadas no algoritmo:\n",
        "* `combinacao`: Cada cromossomo é uma permutação aleatória dos números de 0 a N-1, representando as posições das rainhas no tabuleiro: \n",
        "* `fitness`: para cada geração é calculada a função de avaliação (número de ataques) para cada cromossomo na população. Assim, retornando uma lista de pontuações de aptidão (fitness).\n",
        "* `melhor_combinacao`: "
      ],
      "metadata": {
        "id": "itmbXyjwM2AE"
      }
    },
    {
      "cell_type": "code",
      "source": [
        "def algoritmo_genetico(N, tamanho_populacao, geracoes):\n",
        "    populacao = []\n",
        "    for i in range(tamanho_populacao):\n",
        "        combinacao = random.sample(range(N), N)    #gera uma lista aleatória de N números únicos, que é adicionada à população.\n",
        "        populacao.append(combinacao)\n",
        "\n",
        "    for geracao in range(geracoes):\n",
        "        fitness = [funcao_avaliacao(combinacao) for combinacao in populacao]\n",
        "        melhor_combinacao = populacao[np.argmin(fitness)]\n",
        "        melhor_fitness = funcao_avaliacao(melhor_combinacao)\n",
        "        if melhor_fitness == 0:   #Verificamos se encontramos uma solução ótima (uma configuração onde nenhuma rainha se ataca).\n",
        "            break\n",
        "\n",
        "        populacao_selecionada = selecao(populacao, fitness)\n",
        "\n",
        "        nova_populacao = []\n",
        "        while len(nova_populacao) < tamanho_populacao:\n",
        "            individuo1, individuo2 = random.sample(populacao_selecionada, 2)\n",
        "            child1, child2 = crossover(individuo1, individuo2)\n",
        "            nova_populacao.append(mutacao(child1))\n",
        "            nova_populacao.append(mutacao(child2))\n",
        "\n",
        "        population = nova_populacao\n",
        "\n",
        "    return melhor_combinacao"
      ],
      "metadata": {
        "id": "n3iaUE0lM4JG"
      },
      "execution_count": null,
      "outputs": []
    },
    {
      "cell_type": "markdown",
      "source": [
        "\n",
        "\n",
        "*   Agora vamos testar nossa funcao para um tabuleiro com 8x8 rainhas:\n",
        "\n",
        "\n"
      ],
      "metadata": {
        "id": "nLC4GqoMSxt1"
      }
    },
    {
      "cell_type": "code",
      "source": [
        "# Parâmetros do algoritmo genético, podendo alterar o numero das rainhas \n",
        "\n",
        "N = 8  # Tamanho do tabuleiro e número de rainhas\n",
        "population_size = 100  # Tamanho da população\n",
        "generations = 1000  # Número de gerações\n",
        "\n",
        "# Execução do algoritmo genético\n",
        "solucao = algoritmo_genetico(N, population_size, generations)\n",
        "print(\"Melhor solução encontrada:\", solucao)"
      ],
      "metadata": {
        "colab": {
          "base_uri": "https://localhost:8080/"
        },
        "id": "-aGOHqCFO9zU",
        "outputId": "d0641463-331f-4f1a-c9b4-d20144a6b425"
      },
      "execution_count": null,
      "outputs": [
        {
          "output_type": "stream",
          "name": "stdout",
          "text": [
            "Melhor solução encontrada: [6, 3, 1, 7, 5, 0, 2, 4]\n"
          ]
        }
      ]
    },
    {
      "cell_type": "code",
      "source": [
        "solucao"
      ],
      "metadata": {
        "colab": {
          "base_uri": "https://localhost:8080/"
        },
        "id": "UpiT7TGJTiXm",
        "outputId": "4eb75f1a-d2b9-4734-fe30-744649e80098"
      },
      "execution_count": null,
      "outputs": [
        {
          "output_type": "execute_result",
          "data": {
            "text/plain": [
              "[6, 3, 1, 7, 5, 0, 2, 4]"
            ]
          },
          "metadata": {},
          "execution_count": 52
        }
      ]
    },
    {
      "cell_type": "code",
      "source": [
        "funcao_avaliacao(solucao)"
      ],
      "metadata": {
        "colab": {
          "base_uri": "https://localhost:8080/"
        },
        "id": "2vz5Ub34PYfc",
        "outputId": "b86d1d32-7acc-4c94-8881-4d0e04ad844e"
      },
      "execution_count": null,
      "outputs": [
        {
          "output_type": "execute_result",
          "data": {
            "text/plain": [
              "0"
            ]
          },
          "metadata": {},
          "execution_count": 53
        }
      ]
    }
  ]
}