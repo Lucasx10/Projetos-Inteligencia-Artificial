{
  "nbformat": 4,
  "nbformat_minor": 0,
  "metadata": {
    "colab": {
      "provenance": [],
      "authorship_tag": "ABX9TyM9Sb+CsWMqlYfqdNRFZIBS",
      "include_colab_link": true
    },
    "kernelspec": {
      "name": "python3",
      "display_name": "Python 3"
    },
    "language_info": {
      "name": "python"
    }
  },
  "cells": [
    {
      "cell_type": "markdown",
      "metadata": {
        "id": "view-in-github",
        "colab_type": "text"
      },
      "source": [
        "<a href=\"https://colab.research.google.com/github/Lucasx10/Projetos-Inteligencia-Artificial/blob/main/Algoritmos%20Gen%C3%A9ticos/Alg_genetico_mochila01.ipynb\" target=\"_parent\"><img src=\"https://colab.research.google.com/assets/colab-badge.svg\" alt=\"Open In Colab\"/></a>"
      ]
    },
    {
      "cell_type": "markdown",
      "source": [
        "# Introdução ao problema\n",
        " No problema da mochila 0-1, recebemos um conjunto de itens, cada um com um peso e um valor, e precisamos determinar o número de cada item a ser incluído em uma coleção de modo que o peso total seja menor ou igual a um determinado limite e o valor total é o maior possível. Nesta tarefa você deve solucionar este problema utilizando um algoritmo genético.\n",
        "\n",
        "Para ilustrar este problema, imagine a situação hipotética. Um ladrão entra em uma loja carregando uma mochila (bolsa) que pode carregar 35 kg de peso. A loja possui 10 itens, cada um com peso e preço específicos. Agora, o dilema do ladrão é fazer uma seleção de itens que maximize o valor (ou seja, o preço total) sem exceder o peso da mochila. Temos que ajudar o ladrão a fazer a seleção.\n",
        "\n",
        " Utilize os seguintes itens para colocar na mochila:\n",
        "\n",
        "| Item  |  Peso |  Valor |\n",
        "| --- | --- | --- | \n",
        "| 1 | 3 | 266 |\n",
        "| 2 | 13 | 442 |\n",
        "| 3 | 10 | 671 |\n",
        "| 4 | 9 | 526 |\n",
        "| 5 | 7 | 388 |\n",
        "| 6 | 1 | 245 |\n",
        "| 7 | 8 | 210 |\n",
        "| 8 | 8 | 145 |\n",
        "| 9 | 2 | 126 |\n",
        "| 10 | 9 | 322 |"
      ],
      "metadata": {
        "id": "TLq-qqC7a3rf"
      }
    },
    {
      "cell_type": "markdown",
      "source": [
        "## **Passo 1: Configuração do ambiente**\n",
        "\n",
        "Primeiro, vamos configurar o ambiente no Google Colab. Importar as bibliotecas necessárias:"
      ],
      "metadata": {
        "id": "zaBg6ADqlI3v"
      }
    },
    {
      "cell_type": "code",
      "source": [
        "import random\n",
        "import numpy as np"
      ],
      "metadata": {
        "id": "08k5tOCulbNo"
      },
      "execution_count": 36,
      "outputs": []
    },
    {
      "cell_type": "markdown",
      "source": [
        "##**Passo 2: Definição dos dados**\n",
        "Vamos definir os dados do problema - os pesos e valores dos itens disponíveis para colocar na mochila:"
      ],
      "metadata": {
        "id": "ryvYuiQ8dLkU"
      }
    },
    {
      "cell_type": "code",
      "source": [
        "items = [\n",
        "    (3, 266),\n",
        "    (13, 442),\n",
        "    (10, 671),\n",
        "    (9, 526),\n",
        "    (7, 388),\n",
        "    (1, 245),\n",
        "    (8, 210),\n",
        "    (8, 145),\n",
        "    (2, 126),\n",
        "    (9, 322)\n",
        "]\n",
        "\n",
        "peso_max = 35"
      ],
      "metadata": {
        "id": "dlwF8SbZdQ-N"
      },
      "execution_count": 37,
      "outputs": []
    },
    {
      "cell_type": "markdown",
      "source": [
        "Cada item é representado por uma tupla com o peso e o valor. O max_peso representa o peso máximo que a mochila pode suportar."
      ],
      "metadata": {
        "id": "USdkBwkadZ9I"
      }
    },
    {
      "cell_type": "markdown",
      "source": [
        "##**Passo 3: Representação do Cromossomo (objetivo)**\n",
        "Vamos representar uma solução candidata (ou cromossomo) como uma lista de 0s e 1s, onde cada posição representa um item. Um valor de 1 indica que o item está presente na mochila, e um valor de 0 indica que o item está ausente. O tamanho da lista será igual ao número de itens disponíveis. Por exemplo, o cromossomo `[1, 0, 1, 0, 1, 0, 0, 1, 0, 1]` significa que os itens `1, 3, 5, 8 e 10` da lista estão presentes na mochila."
      ],
      "metadata": {
        "id": "vJUfzOqfjwTJ"
      }
    },
    {
      "cell_type": "markdown",
      "source": [
        "## **Passo 3: Função de Avaliação (fitness function)**\n",
        "A função de avaliação atribui uma pontuação ao cromossomo com base no valor total dos itens presentes na mochila, considerando também o limite de peso. Quanto maior o valor, melhor é o cromossomo. a função de avaliação definida fica assim:"
      ],
      "metadata": {
        "id": "186IiDhEkQwf"
      }
    },
    {
      "cell_type": "code",
      "source": [
        "def funcao_avaliacao(combinacao):\n",
        "    peso_total = 0\n",
        "    valor_total = 0\n",
        "    for i in range(len(combinacao)):\n",
        "        if combinacao[i] == 1:\n",
        "            peso_total += items[i][0]\n",
        "            valor_total += items[i][1]\n",
        "    if peso_total > peso_max:\n",
        "        valor_total = 0\n",
        "    return valor_total"
      ],
      "metadata": {
        "id": "e7r2g7ehdcu0"
      },
      "execution_count": 38,
      "outputs": []
    },
    {
      "cell_type": "markdown",
      "source": [
        "A função percorre o cromossomo e calcula o peso total e o valor total dos itens selecionados. Se o peso total exceder o limite da mochila, o valor total é definido como 0."
      ],
      "metadata": {
        "id": "lBcyNYcjk7bK"
      }
    },
    {
      "cell_type": "markdown",
      "source": [
        "##**Passo 5: Operadores Genéticos**\n",
        "Agora, vamos implementar os operadores genéticos - seleção, cruzamento (crossover) e mutação.\n",
        "### Seleção\n",
        "Foi utilizado o método da roleta viciada, onde a probabilidade de seleção de um cromossomo é proporcional à sua pontuação de avaliação. Foi implementada a função de seleção da seguinte forma:"
      ],
      "metadata": {
        "id": "fSj-DkxkzwBT"
      }
    },
    {
      "cell_type": "code",
      "source": [
        "def selecao(populacao, fitness):\n",
        "    probabilidade = [f / sum(fitness) for f in fitness]\n",
        "    indices_selecionados = np.random.choice(len(populacao), size=len(populacao), p=probabilidade)\n",
        "    return [populacao[i] for i in indices_selecionados]"
      ],
      "metadata": {
        "id": "h31mSOGYk8JY"
      },
      "execution_count": 39,
      "outputs": []
    },
    {
      "cell_type": "markdown",
      "source": [
        "### Crossover\n",
        "Para o crossover, vamos usar o crossover de um ponto, onde um ponto de corte é escolhido aleatoriamente, e os genes dos pais são trocados para formar os filhos. Implementaremos a função de crossover da seguinte forma:"
      ],
      "metadata": {
        "id": "_zmletck5pq0"
      }
    },
    {
      "cell_type": "code",
      "source": [
        "def crossover(individuo1, individuo2):\n",
        "    crossover_point = random.randint(1, len(individuo1) - 1)\n",
        "    child1 = individuo1[:crossover_point] + individuo2[crossover_point:]\n",
        "    child2 = individuo2[:crossover_point] + individuo1[crossover_point:]\n",
        "    return child1, child2"
      ],
      "metadata": {
        "id": "SOoUsfIc5w8I"
      },
      "execution_count": 40,
      "outputs": []
    },
    {
      "cell_type": "markdown",
      "source": [
        "### Mutação \n",
        "foi invertido aleatoriamente um gene no cromossomo. Implementaremos a função de mutação da seguinte forma:"
      ],
      "metadata": {
        "id": "tglMD2WF6JWN"
      }
    },
    {
      "cell_type": "code",
      "source": [
        "def mutacao(combinacao, taxa_mutacao):\n",
        "    for i in range(len(combinacao)):\n",
        "        if random.random() < taxa_mutacao:\n",
        "            combinacao[i] = 1 - combinacao[i]\n",
        "    return combinacao"
      ],
      "metadata": {
        "id": "TXIHwILL6KGu"
      },
      "execution_count": 41,
      "outputs": []
    },
    {
      "cell_type": "markdown",
      "source": [
        "## **Passo 6: Algoritmo Genético**\n",
        "Agora, vamos combinar todas as partes e implementar o algoritmo genético:"
      ],
      "metadata": {
        "id": "7_Rx8fG8_JVW"
      }
    },
    {
      "cell_type": "code",
      "source": [
        "def algoritmo_genetico(tamanho_populacao, geracoes, taxa_mutacao):\n",
        "    populacao = []\n",
        "    for _ in range(tamanho_populacao):\n",
        "        individuo = [random.randint(0, 1) for _ in range(len(items))]\n",
        "        populacao.append(individuo)\n",
        "\n",
        "    for _ in range(geracoes):\n",
        "        fitness = [funcao_avaliacao(individuo) for individuo in populacao]\n",
        "\n",
        "        melhor_combinacao = populacao[np.argmax(fitness)]\n",
        "        best_fitness = funcao_avaliacao(melhor_combinacao)\n",
        "        if best_fitness == 0:\n",
        "            break\n",
        "\n",
        "        populacao_selecionada = selecao(populacao, fitness)\n",
        "\n",
        "        nova_populacao = []\n",
        "        while len(nova_populacao) < tamanho_populacao:\n",
        "            individuo1, individuo2 = random.sample(populacao_selecionada, 2)\n",
        "            child1, child2 = crossover(individuo1, individuo2)\n",
        "            nova_populacao.append(mutacao(child1, taxa_mutacao))\n",
        "            nova_populacao.append(mutacao(child2, taxa_mutacao))\n",
        "\n",
        "        populacao = nova_populacao\n",
        "\n",
        "    return melhor_combinacao"
      ],
      "metadata": {
        "id": "zzlY_q2i_Nkz"
      },
      "execution_count": 42,
      "outputs": []
    },
    {
      "cell_type": "markdown",
      "source": [
        "##**Passo 7: Executando o Algoritmo Genético**\n",
        "Agora, podemos executar o algoritmo genético com os parâmetros desejados:"
      ],
      "metadata": {
        "id": "Z_aIRynTAgaO"
      }
    },
    {
      "cell_type": "code",
      "source": [
        "# Parâmetros do algoritmo genético\n",
        "population_size = 100  # Tamanho da população\n",
        "generations = 100  # Número de gerações\n",
        "mutation_rate = 0.08  # Taxa de mutação\n",
        "\n",
        "# Execução do algoritmo genético\n",
        "solucao = algoritmo_genetico(population_size, generations, mutation_rate)\n",
        "print(\"Melhor solução encontrada:\", solucao)"
      ],
      "metadata": {
        "colab": {
          "base_uri": "https://localhost:8080/"
        },
        "id": "qvhnDaG8Ai2D",
        "outputId": "d573c4f2-ece0-4101-c757-caf827b5eda8"
      },
      "execution_count": 92,
      "outputs": [
        {
          "output_type": "stream",
          "name": "stdout",
          "text": [
            "Melhor solução encontrada: [1, 0, 1, 1, 1, 1, 0, 0, 1, 0]\n"
          ]
        }
      ]
    },
    {
      "cell_type": "code",
      "source": [
        "solucao"
      ],
      "metadata": {
        "colab": {
          "base_uri": "https://localhost:8080/"
        },
        "id": "D2tSwUlP9puR",
        "outputId": "57c92a4e-8906-4c0e-b2df-9ce9e6ff4fc8"
      },
      "execution_count": 93,
      "outputs": [
        {
          "output_type": "execute_result",
          "data": {
            "text/plain": [
              "[1, 0, 1, 1, 1, 1, 0, 0, 1, 0]"
            ]
          },
          "metadata": {},
          "execution_count": 93
        }
      ]
    },
    {
      "cell_type": "code",
      "source": [
        "funcao_avaliacao(solucao)"
      ],
      "metadata": {
        "colab": {
          "base_uri": "https://localhost:8080/"
        },
        "id": "zTvsJFdf97IH",
        "outputId": "4c8d0696-4582-42df-db72-f07a148a897d"
      },
      "execution_count": 94,
      "outputs": [
        {
          "output_type": "execute_result",
          "data": {
            "text/plain": [
              "2222"
            ]
          },
          "metadata": {},
          "execution_count": 94
        }
      ]
    },
    {
      "cell_type": "markdown",
      "source": [
        "O valor total dos items presentes na mochila. "
      ],
      "metadata": {
        "id": "5mw-E5ku-ErM"
      }
    }
  ]
}